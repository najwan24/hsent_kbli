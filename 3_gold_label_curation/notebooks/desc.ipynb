{
 "cells": [
  {
   "cell_type": "code",
   "execution_count": 10,
   "id": "c22f8d19",
   "metadata": {},
   "outputs": [
    {
     "data": {
      "application/vnd.microsoft.datawrangler.viewer.v0+json": {
       "columns": [
        {
         "name": "index",
         "rawType": "int64",
         "type": "integer"
        },
        {
         "name": "digit",
         "rawType": "int64",
         "type": "integer"
        },
        {
         "name": "kode",
         "rawType": "object",
         "type": "string"
        },
        {
         "name": "judul",
         "rawType": "object",
         "type": "string"
        },
        {
         "name": "deskripsi",
         "rawType": "object",
         "type": "string"
        }
       ],
       "ref": "53922715-a197-422b-b0ab-92bd3f168f5f",
       "rows": [
        [
         "0",
         "1",
         "A",
         "Pertanian, Kehutanan dan Perikanan",
         "Kategori ini mencakup semua kegiatan ekonomi/lapangan usaha, yang meliputi pertanian tanaman pangan, perkebunan, hortikultura, peternakan, pemanenan hasil hutan serta penangkapan dan budidaya ikan/biota air. Kategori ini juga mencakup jasa penunjang masing-masing kegiatan ekonomi tersebut."
        ],
        [
         "1",
         "2",
         "01",
         "Pertanian Tanaman, Peternakan, Perburuan dan Kegiatan YBDI",
         "Golongan pokok ini mencakup pertanian tanaman pangan, perkebunan dan hortikultura; usaha pemeliharaan hewan ternak dan unggas; perburuan dan penangkapan hewan dengan perangkap serta kegiatan penunjang ybdi yang ditujukan untuk dijual. Termasuk budidaya tanaman dan hewan ternak secara organik dan genetik. Kegiatan pertanian tidak mencakup kegiatan pengolahan dari komoditas pertanian,  termasuk dalam Kategori C (Industri Pengolahan). Kegiatan konstruksi lahan seperti pembuatan petak-petak sawah, irigasi saluran pembuangan air, serta pembersihan dan perbaikan lahan untuk pertanian tidak termasuk di sini, tetapi tercakup pada kategori konstruksi (F)."
        ],
        [
         "2",
         "3",
         "011",
         "Pertanian Tanaman Semusim",
         "Golongan ini mencakup penanaman tanaman yang tidak berlangsung lebih dari dua musim panen. Termasuk penanaman tanaman dalam berbagai media dan budidaya tanaman secara genetik, dan juga penanaman untuk tujuan pembibitan dan pembenihan."
        ],
        [
         "3",
         "4",
         "0111",
         "Pertanian serealia (bukan padi), aneka kacang dan biji-bijian penghasil minyak",
         "Subgolongan ini mencakup pertanian semua serealia, aneka kacang dan biji-bijian penghasil minyak di lahan terbuka, termasuk pertanian tanaman organik dan pertanian tanaman yang telah dimodifikasi. Pertanian tanaman ini sering dikombinasikan dalam unit pertanian.    \r\n\r\nSubgolongan ini mencakup :  \r\n- Pertanian serealia seperti gandum, jagung, sorgum, gandum untuk membuat bir (barley), gandum hitam (rye), oats, millet dan serealia lainnya  \r\n- Pertanian aneka kacang palawija, mencakup kacang kedelai, kacang tanah dan kacang hijau   \r\n- Pertanian aneka kacang hortikultura, mencakup buncis, buncis besar, kacang panjang, cow peas, miju-miju, lupin, kacang polong, pigeon peas dan tanaman aneka kacang lainnya  \r\n- Pertanian biji-bijian penghasil minyak, seperti biji kapas, biji castor, biji rami, biji mustard, niger seeds, rapeseed/canola, biji wijen, safflower seeds, biji bunga matahari dan tanaman penghasil minyak lainnya    \r\n\r\nSubgolongan ini tidak mencakup :  \r\n- Pertanian jagung (maize) untuk makanan ternak, lihat 0119"
        ],
        [
         "4",
         "5",
         "01111",
         "Pertanian Jagung",
         "Kelompok ini mencakup usaha pertanian komoditas jagung mulai dari kegiatan pengolahan lahan, penanaman, pemeliharaan, dan juga pemanenan dan pasca panen jika menjadi satu kesatuan kegiatan tanaman jagung. Termasuk kegiatan pembibitan dan pembenihan tanaman jagung."
        ]
       ],
       "shape": {
        "columns": 4,
        "rows": 5
       }
      },
      "text/html": [
       "<div>\n",
       "<style scoped>\n",
       "    .dataframe tbody tr th:only-of-type {\n",
       "        vertical-align: middle;\n",
       "    }\n",
       "\n",
       "    .dataframe tbody tr th {\n",
       "        vertical-align: top;\n",
       "    }\n",
       "\n",
       "    .dataframe thead th {\n",
       "        text-align: right;\n",
       "    }\n",
       "</style>\n",
       "<table border=\"1\" class=\"dataframe\">\n",
       "  <thead>\n",
       "    <tr style=\"text-align: right;\">\n",
       "      <th></th>\n",
       "      <th>digit</th>\n",
       "      <th>kode</th>\n",
       "      <th>judul</th>\n",
       "      <th>deskripsi</th>\n",
       "    </tr>\n",
       "  </thead>\n",
       "  <tbody>\n",
       "    <tr>\n",
       "      <th>0</th>\n",
       "      <td>1</td>\n",
       "      <td>A</td>\n",
       "      <td>Pertanian, Kehutanan dan Perikanan</td>\n",
       "      <td>Kategori ini mencakup semua kegiatan ekonomi/l...</td>\n",
       "    </tr>\n",
       "    <tr>\n",
       "      <th>1</th>\n",
       "      <td>2</td>\n",
       "      <td>01</td>\n",
       "      <td>Pertanian Tanaman, Peternakan, Perburuan dan K...</td>\n",
       "      <td>Golongan pokok ini mencakup pertanian tanaman ...</td>\n",
       "    </tr>\n",
       "    <tr>\n",
       "      <th>2</th>\n",
       "      <td>3</td>\n",
       "      <td>011</td>\n",
       "      <td>Pertanian Tanaman Semusim</td>\n",
       "      <td>Golongan ini mencakup penanaman tanaman yang t...</td>\n",
       "    </tr>\n",
       "    <tr>\n",
       "      <th>3</th>\n",
       "      <td>4</td>\n",
       "      <td>0111</td>\n",
       "      <td>Pertanian serealia (bukan padi), aneka kacang ...</td>\n",
       "      <td>Subgolongan ini mencakup pertanian semua serea...</td>\n",
       "    </tr>\n",
       "    <tr>\n",
       "      <th>4</th>\n",
       "      <td>5</td>\n",
       "      <td>01111</td>\n",
       "      <td>Pertanian Jagung</td>\n",
       "      <td>Kelompok ini mencakup usaha pertanian komodita...</td>\n",
       "    </tr>\n",
       "  </tbody>\n",
       "</table>\n",
       "</div>"
      ],
      "text/plain": [
       "   digit   kode                                              judul  \\\n",
       "0      1      A                 Pertanian, Kehutanan dan Perikanan   \n",
       "1      2     01  Pertanian Tanaman, Peternakan, Perburuan dan K...   \n",
       "2      3    011                          Pertanian Tanaman Semusim   \n",
       "3      4   0111  Pertanian serealia (bukan padi), aneka kacang ...   \n",
       "4      5  01111                                   Pertanian Jagung   \n",
       "\n",
       "                                           deskripsi  \n",
       "0  Kategori ini mencakup semua kegiatan ekonomi/l...  \n",
       "1  Golongan pokok ini mencakup pertanian tanaman ...  \n",
       "2  Golongan ini mencakup penanaman tanaman yang t...  \n",
       "3  Subgolongan ini mencakup pertanian semua serea...  \n",
       "4  Kelompok ini mencakup usaha pertanian komodita...  "
      ]
     },
     "execution_count": 10,
     "metadata": {},
     "output_type": "execute_result"
    }
   ],
   "source": [
    "import pandas as pd\n",
    "\n",
    "kbli_df = pd.read_csv('../data/input/kbli_codebook.csv', dtype={'kode': str})\n",
    "kbli_df.drop(columns=['kategori']).head()"
   ]
  },
  {
   "cell_type": "code",
   "execution_count": null,
   "id": "1051e077",
   "metadata": {},
   "outputs": [],
   "source": []
  },
  {
   "cell_type": "code",
   "execution_count": 14,
   "id": "ea1a3456",
   "metadata": {},
   "outputs": [
    {
     "data": {
      "application/vnd.microsoft.datawrangler.viewer.v0+json": {
       "columns": [
        {
         "name": "index",
         "rawType": "int64",
         "type": "integer"
        },
        {
         "name": "text",
         "rawType": "object",
         "type": "string"
        },
        {
         "name": "kbli_code",
         "rawType": "object",
         "type": "string"
        },
        {
         "name": "category",
         "rawType": "object",
         "type": "string"
        },
        {
         "name": "kbli_count",
         "rawType": "int64",
         "type": "integer"
        }
       ],
       "ref": "a3df15b1-f544-4e5d-af4c-c0d6ed0ada57",
       "rows": [
        [
         "0",
         "jagal sapi menghasilkan potong sapi di bidang jagal sapi",
         "10110",
         "C",
         "71"
        ],
        [
         "1",
         "bagian produksi membersihkan jeroan ayam menghasilkan pemotongan ayam di bidang pabrik ayam potong",
         "10120",
         "C",
         "108"
        ],
        [
         "2",
         "menyembelih dan membersihkan ayam menghasilkan ayam di bidang jasa penyembelihan ayam",
         "10120",
         "C",
         "108"
        ],
        [
         "3",
         "menggiling daging pembuatan sosis di pabrik pbs menghasilkan sosis di bidang industri pengolahan pabrik sosis pbs",
         "10130",
         "C",
         "225"
        ],
        [
         "4",
         "memotong daging ayam untuk di giling dan diolah menjadi pentol menghasilkan penggilingan pentol sapi dan ayam di bidang perdagangan",
         "10130",
         "C",
         "225"
        ]
       ],
       "shape": {
        "columns": 4,
        "rows": 5
       }
      },
      "text/html": [
       "<div>\n",
       "<style scoped>\n",
       "    .dataframe tbody tr th:only-of-type {\n",
       "        vertical-align: middle;\n",
       "    }\n",
       "\n",
       "    .dataframe tbody tr th {\n",
       "        vertical-align: top;\n",
       "    }\n",
       "\n",
       "    .dataframe thead th {\n",
       "        text-align: right;\n",
       "    }\n",
       "</style>\n",
       "<table border=\"1\" class=\"dataframe\">\n",
       "  <thead>\n",
       "    <tr style=\"text-align: right;\">\n",
       "      <th></th>\n",
       "      <th>text</th>\n",
       "      <th>kbli_code</th>\n",
       "      <th>category</th>\n",
       "      <th>kbli_count</th>\n",
       "    </tr>\n",
       "  </thead>\n",
       "  <tbody>\n",
       "    <tr>\n",
       "      <th>0</th>\n",
       "      <td>jagal sapi menghasilkan potong sapi di bidang ...</td>\n",
       "      <td>10110</td>\n",
       "      <td>C</td>\n",
       "      <td>71</td>\n",
       "    </tr>\n",
       "    <tr>\n",
       "      <th>1</th>\n",
       "      <td>bagian produksi membersihkan jeroan ayam mengh...</td>\n",
       "      <td>10120</td>\n",
       "      <td>C</td>\n",
       "      <td>108</td>\n",
       "    </tr>\n",
       "    <tr>\n",
       "      <th>2</th>\n",
       "      <td>menyembelih dan membersihkan ayam menghasilkan...</td>\n",
       "      <td>10120</td>\n",
       "      <td>C</td>\n",
       "      <td>108</td>\n",
       "    </tr>\n",
       "    <tr>\n",
       "      <th>3</th>\n",
       "      <td>menggiling daging pembuatan sosis di pabrik pb...</td>\n",
       "      <td>10130</td>\n",
       "      <td>C</td>\n",
       "      <td>225</td>\n",
       "    </tr>\n",
       "    <tr>\n",
       "      <th>4</th>\n",
       "      <td>memotong daging ayam untuk di giling dan diola...</td>\n",
       "      <td>10130</td>\n",
       "      <td>C</td>\n",
       "      <td>225</td>\n",
       "    </tr>\n",
       "  </tbody>\n",
       "</table>\n",
       "</div>"
      ],
      "text/plain": [
       "                                                text kbli_code category  \\\n",
       "0  jagal sapi menghasilkan potong sapi di bidang ...     10110        C   \n",
       "1  bagian produksi membersihkan jeroan ayam mengh...     10120        C   \n",
       "2  menyembelih dan membersihkan ayam menghasilkan...     10120        C   \n",
       "3  menggiling daging pembuatan sosis di pabrik pb...     10130        C   \n",
       "4  memotong daging ayam untuk di giling dan diola...     10130        C   \n",
       "\n",
       "   kbli_count  \n",
       "0          71  \n",
       "1         108  \n",
       "2         108  \n",
       "3         225  \n",
       "4         225  "
      ]
     },
     "execution_count": 14,
     "metadata": {},
     "output_type": "execute_result"
    }
   ],
   "source": [
    "mini_test_df = pd.read_csv('../data/input/mini_test.csv', dtype={'kbli_code': str})\n",
    "mini_test_df.head()"
   ]
  },
  {
   "cell_type": "code",
   "execution_count": null,
   "id": "e22fb189",
   "metadata": {},
   "outputs": [],
   "source": []
  }
 ],
 "metadata": {
  "kernelspec": {
   "display_name": "base",
   "language": "python",
   "name": "python3"
  },
  "language_info": {
   "codemirror_mode": {
    "name": "ipython",
    "version": 3
   },
   "file_extension": ".py",
   "mimetype": "text/x-python",
   "name": "python",
   "nbconvert_exporter": "python",
   "pygments_lexer": "ipython3",
   "version": "3.13.2"
  }
 },
 "nbformat": 4,
 "nbformat_minor": 5
}
